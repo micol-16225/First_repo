{
  "nbformat": 4,
  "nbformat_minor": 0,
  "metadata": {
    "colab": {
      "provenance": [],
      "authorship_tag": "ABX9TyOfPTBdLFwpfNGbIimHHE2C",
      "include_colab_link": true
    },
    "kernelspec": {
      "name": "python3",
      "display_name": "Python 3"
    },
    "language_info": {
      "name": "python"
    }
  },
  "cells": [
    {
      "cell_type": "markdown",
      "metadata": {
        "id": "view-in-github",
        "colab_type": "text"
      },
      "source": [
        "<a href=\"https://colab.research.google.com/github/micol-16225/First_repo/blob/main/MLOps.ipynb\" target=\"_parent\"><img src=\"https://colab.research.google.com/assets/colab-badge.svg\" alt=\"Open In Colab\"/></a>"
      ]
    },
    {
      "cell_type": "code",
      "execution_count": null,
      "metadata": {
        "id": "Wr7fu-hZIWBb"
      },
      "outputs": [],
      "source": []
    },
    {
      "cell_type": "markdown",
      "source": [
        "# Model Deployment\n",
        "\n",
        "Building the infrastructure for the model to be used in production.\n",
        "\n",
        "# Software Engineering Considerations:\n",
        "\n",
        "1 - **Realtime vs. Batch execution**: need to have a realtime answer or can we run the process overnight?\n",
        "\n",
        "2 - **Cloud vs. Edge computing**: what is the best venue where to perform model computation, do we want to rely on internet connection or not?\n",
        "\n",
        "3 -  **Computing resources**: CPU, GPU memory\n",
        "\n",
        "4 - **Latency** (how quick the model responds to the query) and throughput (how many queries per second QPS)\n",
        "\n",
        "5 - **Logging**\n",
        "\n",
        "6 - **Security and Privacy**\n",
        "\n",
        "# Monitoring and Maintenance Considerations:\n",
        "\n",
        "1 - is there any **Data Drift**: the distribution of X has been changing (e.g. new lighting of the pictures, new microphone for audio, etc.)\n",
        "\n",
        "--> Monitor a given set of statistics about the input variables X as well as check the number of missing values (might be an indicator the data structure has changed).\n",
        "\n",
        "2 - is there any **Concept Drift**: the relation between X and Y has been changing (new user behavior after sudden even like covid19)\n",
        "\n",
        "--> Monitor a given set of statistics about the output variables Y as well as check the number of null values returned by the model (might be an indicator the model is no longer able to predict well).\n",
        "\n",
        "3 - **Iterative Process**:\n",
        "\n",
        "*   need to start deployment\n",
        "*   look at how the deployment is doing on a given value of queries volume\n",
        "* evaluate the performance\n",
        "* establish if changes are needed\n",
        "\n",
        "# Note:\n",
        "\n",
        " Monitoring can lead to two possible actions:\n",
        "\n",
        " 1) Perform Error Analysis on your model and understand if improvements are needed\n",
        "\n",
        " 2) Go back to the data and understand if more data, and which new data are needed\n",
        "\n"
      ],
      "metadata": {
        "id": "jcjRMnFaIaKq"
      }
    },
    {
      "cell_type": "markdown",
      "source": [
        "# Common Deployment Cases\n",
        "\n",
        "1) New ML product / New ML capability\n",
        "\n",
        "2) Automate Manual Task\n",
        "\n",
        "3) Replace previous ML system\n",
        "\n",
        "Key Ideas:\n",
        "\n",
        "*   Gradual ramp up with monitoring\n",
        "*   Rollback to previous system\n",
        "\n",
        "Common Modes:\n",
        "\n",
        "  *  **Shadow Mode** -- make the ML model run in parallel with the previous model (maybe human decision) and see how it's performing\n",
        "\n",
        "   * **Carary Deployment** -- roll out to a small fraction (say 5%) of traffic initially and ramp up gradually\n",
        "\n",
        "   * **Blue and Green Deployment** -- router can switch between Old system (blue) and New system (green) depending on need\n",
        "\n",
        "\n",
        "\n"
      ],
      "metadata": {
        "id": "rKTi3gkNKdni"
      }
    },
    {
      "cell_type": "code",
      "source": [],
      "metadata": {
        "id": "Jp74bEh_JGhz"
      },
      "execution_count": null,
      "outputs": []
    }
  ]
}